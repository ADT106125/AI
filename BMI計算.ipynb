{
 "cells": [
  {
   "cell_type": "code",
   "execution_count": 3,
   "metadata": {},
   "outputs": [
    {
     "name": "stdout",
     "output_type": "stream",
     "text": [
      "請輸入身高(cm):163\n",
      "請輸入體重(kg):56\n",
      "BMI指數為:21.08\n",
      "體重正常\n"
     ]
    }
   ],
   "source": [
    "#BMI\n",
    "h=float(input(\"請輸入身高(cm):\"))\n",
    "w=float(input(\"請輸入體重(kg):\"))\n",
    "BMI=w/((h/100)**2)\n",
    "print(\"BMI指數為:%2.2f\"%(BMI))\n",
    "if BMI<18.5:\n",
    "    print(\"過輕\")\n",
    "elif BMI<=24 and BMI>=18.5:\n",
    "    print(\"體重正常\")\n",
    "else:\n",
    "    print(\"過重\")"
   ]
  }
 ],
 "metadata": {
  "kernelspec": {
   "display_name": "Python 3",
   "language": "python",
   "name": "python3"
  },
  "language_info": {
   "codemirror_mode": {
    "name": "ipython",
    "version": 3
   },
   "file_extension": ".py",
   "mimetype": "text/x-python",
   "name": "python",
   "nbconvert_exporter": "python",
   "pygments_lexer": "ipython3",
   "version": "3.6.5"
  }
 },
 "nbformat": 4,
 "nbformat_minor": 2
}
