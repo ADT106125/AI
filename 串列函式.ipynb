{
 "cells": [
  {
   "cell_type": "code",
   "execution_count": 13,
   "metadata": {},
   "outputs": [
    {
     "name": "stdout",
     "output_type": "stream",
     "text": [
      "1 abc\n",
      "2 abc\n",
      "3 abc\n",
      "4 abc\n",
      "5 abc\n",
      "6 abc\n",
      "7 abc\n",
      "8 abc\n",
      "9 abc\n"
     ]
    }
   ],
   "source": [
    "#串列函式\n",
    "li =[range(1,10),\"abc\"]\n",
    "def lp(la,lb):\n",
    "    print(la,lb)\n",
    "for ls in li[0]:\n",
    "    lp(ls,li[1])"
   ]
  }
 ],
 "metadata": {
  "kernelspec": {
   "display_name": "Python 3",
   "language": "python",
   "name": "python3"
  },
  "language_info": {
   "codemirror_mode": {
    "name": "ipython",
    "version": 3
   },
   "file_extension": ".py",
   "mimetype": "text/x-python",
   "name": "python",
   "nbconvert_exporter": "python",
   "pygments_lexer": "ipython3",
   "version": "3.6.5"
  }
 },
 "nbformat": 4,
 "nbformat_minor": 2
}
