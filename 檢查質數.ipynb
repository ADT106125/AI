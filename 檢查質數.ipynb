{
 "cells": [
  {
   "cell_type": "code",
   "execution_count": 16,
   "metadata": {},
   "outputs": [
    {
     "name": "stdout",
     "output_type": "stream",
     "text": [
      "請輸入質數\n",
      "50\n",
      "50不是質數\n"
     ]
    }
   ],
   "source": [
    "#檢查質數\n",
    "n=int(input(\"請輸入質數\\n\"))\n",
    "if(n==2):\n",
    "    print(\"2是質數\")\n",
    "else:\n",
    "    for fe in range(2,n):\n",
    "        if(n%fe==0):\n",
    "            print(str(n)+\"不是質數\")\n",
    "            break\n",
    "    else:\n",
    "        print(str(n)+\"是質數\")\n",
    "    \n"
   ]
  }
 ],
 "metadata": {
  "kernelspec": {
   "display_name": "Python 3",
   "language": "python",
   "name": "python3"
  },
  "language_info": {
   "codemirror_mode": {
    "name": "ipython",
    "version": 3
   },
   "file_extension": ".py",
   "mimetype": "text/x-python",
   "name": "python",
   "nbconvert_exporter": "python",
   "pygments_lexer": "ipython3",
   "version": "3.6.5"
  }
 },
 "nbformat": 4,
 "nbformat_minor": 2
}
