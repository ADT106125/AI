{
 "cells": [
  {
   "cell_type": "code",
   "execution_count": null,
   "metadata": {},
   "outputs": [],
   "source": [
    "#數列和\n",
    "sum=0\n",
    "n=int(input(\"請輸入整數n\\n\"))\n",
    "def show(n):\n",
    "    print(\"第\"+str(n)+\"次執行迴圈\")\n",
    "    \n",
    "for i in range(1,n+1):\n",
    "    show(i)\n",
    "    sum+=i\n",
    "print(\"1+2+......+\"+str(n)+\"=\"+str(sum))"
   ]
  }
 ],
 "metadata": {
  "kernelspec": {
   "display_name": "Python 3",
   "language": "python",
   "name": "python3"
  },
  "language_info": {
   "codemirror_mode": {
    "name": "ipython",
    "version": 3
   },
   "file_extension": ".py",
   "mimetype": "text/x-python",
   "name": "python",
   "nbconvert_exporter": "python",
   "pygments_lexer": "ipython3",
   "version": "3.6.5"
  }
 },
 "nbformat": 4,
 "nbformat_minor": 2
}
